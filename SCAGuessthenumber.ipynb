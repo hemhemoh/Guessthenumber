{
  "nbformat": 4,
  "nbformat_minor": 0,
  "metadata": {
    "colab": {
      "name": "SCAGuessthenumber.ipynb",
      "provenance": [],
      "authorship_tag": "ABX9TyNXCrnnI895U8ErH/ABaNb7"
    },
    "kernelspec": {
      "name": "python3",
      "display_name": "Python 3"
    }
  },
  "cells": [
    {
      "cell_type": "markdown",
      "metadata": {
        "id": "QC1Vs5oDo8qC"
      },
      "source": [
        "\r\n",
        "Guess The Number: A program where the computer randomly generates a number between 0 and 20. The user needs to guess what the number is. If the user guesses wrong, tell them their guess is either too high, or too low. \r\n"
      ]
    },
    {
      "cell_type": "code",
      "metadata": {
        "colab": {
          "base_uri": "https://localhost:8080/"
        },
        "id": "VcaLLwqDoOTY",
        "outputId": "881df8c0-4a94-4044-daeb-ab508f20bf6f"
      },
      "source": [
        "from random import randint\r\n",
        "sn = randint(0, 20)\r\n",
        "\r\n",
        "while True:\r\n",
        "    try:\r\n",
        "        guess = int(input(\"Guess a number please!\"))\r\n",
        "        if guess < sn:\r\n",
        "            print(\"your guess is too low\")\r\n",
        "        elif guess > sn:\r\n",
        "            print(\"your guess is too high\")\r\n",
        "        else:\r\n",
        "            print(\"you guessed right!\")\r\n",
        "            break\r\n",
        "    except ValueError:\r\n",
        "        print(\"Please enter an integer!\")\r\n",
        "#the try and except block is used to prevent the code from crashing when a non-integer is inputed\r\n",
        "  "
      ],
      "execution_count": 1,
      "outputs": [
        {
          "output_type": "stream",
          "text": [
            "Guess a number please!6\n",
            "your guess is too low\n",
            "Guess a number please!6\n",
            "your guess is too low\n",
            "Guess a number please!8\n",
            "your guess is too low\n",
            "Guess a number please!9\n",
            "your guess is too low\n",
            "Guess a number please!20\n",
            "your guess is too high\n",
            "Guess a number please!87\n",
            "your guess is too high\n",
            "Guess a number please!15\n",
            "your guess is too high\n",
            "Guess a number please!13\n",
            "your guess is too high\n",
            "Guess a number please!10\n",
            "you guessed right!\n"
          ],
          "name": "stdout"
        }
      ]
    }
  ]
}